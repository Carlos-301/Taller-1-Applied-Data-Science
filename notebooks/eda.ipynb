{
 "cells": [
  {
   "cell_type": "markdown",
   "id": "096c11d4",
   "metadata": {},
   "source": [
    "# Entendimiento inicial de los datos"
   ]
  },
  {
   "cell_type": "code",
   "execution_count": 1,
   "id": "797ef0f9",
   "metadata": {},
   "outputs": [
    {
     "name": "stderr",
     "output_type": "stream",
     "text": [
      "c:\\Users\\carlo\\anaconda3\\envs\\AppliedDataScience\\Lib\\site-packages\\tqdm\\auto.py:21: TqdmWarning: IProgress not found. Please update jupyter and ipywidgets. See https://ipywidgets.readthedocs.io/en/stable/user_install.html\n",
      "  from .autonotebook import tqdm as notebook_tqdm\n"
     ]
    },
    {
     "data": {
      "text/html": [
       "\n",
       "            <div>\n",
       "                <ins><a href=\"https://ydata.ai/register\">Upgrade to ydata-sdk</a></ins>\n",
       "                <p>\n",
       "                    Improve your data and profiling with ydata-sdk, featuring data quality scoring, redundancy detection, outlier identification, text validation, and synthetic data generation.\n",
       "                </p>\n",
       "            </div>\n",
       "            "
      ],
      "text/plain": [
       "<IPython.core.display.HTML object>"
      ]
     },
     "metadata": {},
     "output_type": "display_data"
    }
   ],
   "source": [
    "import pandas as pd\n",
    "import numpy as np\n",
    "import matplotlib.pyplot as plt\n",
    "import seaborn as sns\n",
    "\n",
    "from ydata_profiling import ProfileReport"
   ]
  },
  {
   "cell_type": "code",
   "execution_count": 2,
   "id": "61858b6d",
   "metadata": {},
   "outputs": [
    {
     "name": "stderr",
     "output_type": "stream",
     "text": [
      "C:\\Users\\carlo\\AppData\\Local\\Temp\\ipykernel_19144\\2855414219.py:1: DtypeWarning: Columns (24) have mixed types. Specify dtype option on import or set low_memory=False.\n",
      "  data  = pd.read_csv(\"..\\data\\hotel_bookings_modified.csv\")\n"
     ]
    }
   ],
   "source": [
    "data  = pd.read_csv(\"..\\data\\hotel_bookings_modified.csv\")"
   ]
  },
  {
   "cell_type": "code",
   "execution_count": 3,
   "id": "15a9d33e",
   "metadata": {},
   "outputs": [
    {
     "data": {
      "text/plain": [
       "(58895, 33)"
      ]
     },
     "execution_count": 3,
     "metadata": {},
     "output_type": "execute_result"
    }
   ],
   "source": [
    "data.shape"
   ]
  },
  {
   "cell_type": "code",
   "execution_count": 4,
   "id": "b13f1440",
   "metadata": {},
   "outputs": [
    {
     "data": {
      "text/plain": [
       "hotel                              object\n",
       "is_canceled                         int64\n",
       "lead_time                           int64\n",
       "arrival_date_year                 float64\n",
       "arrival_date_month                 object\n",
       "arrival_date_week_number            int64\n",
       "arrival_date_day_of_month           int64\n",
       "stays_in_weekend_nights             int64\n",
       "stays_in_week_nights                int64\n",
       "adults                              int64\n",
       "children                          float64\n",
       "babies                              int64\n",
       "meal                               object\n",
       "country                            object\n",
       "market_segment                     object\n",
       "distribution_channel               object\n",
       "is_repeated_guest                   int64\n",
       "previous_cancellations              int64\n",
       "previous_bookings_not_canceled      int64\n",
       "reserved_room_type                 object\n",
       "assigned_room_type                 object\n",
       "booking_changes                     int64\n",
       "deposit_type                       object\n",
       "agent                             float64\n",
       "company                            object\n",
       "days_in_waiting_list              float64\n",
       "customer_type                      object\n",
       "adr                               float64\n",
       "required_car_parking_spaces       float64\n",
       "total_of_special_requests         float64\n",
       "reservation_status                 object\n",
       "reservation_status_date            object\n",
       "kids                              float64\n",
       "dtype: object"
      ]
     },
     "execution_count": 4,
     "metadata": {},
     "output_type": "execute_result"
    }
   ],
   "source": [
    "data.dtypes"
   ]
  },
  {
   "cell_type": "code",
   "execution_count": 5,
   "id": "7180c675",
   "metadata": {},
   "outputs": [
    {
     "data": {
      "text/html": [
       "<div>\n",
       "<style scoped>\n",
       "    .dataframe tbody tr th:only-of-type {\n",
       "        vertical-align: middle;\n",
       "    }\n",
       "\n",
       "    .dataframe tbody tr th {\n",
       "        vertical-align: top;\n",
       "    }\n",
       "\n",
       "    .dataframe thead th {\n",
       "        text-align: right;\n",
       "    }\n",
       "</style>\n",
       "<table border=\"1\" class=\"dataframe\">\n",
       "  <thead>\n",
       "    <tr style=\"text-align: right;\">\n",
       "      <th></th>\n",
       "      <th>hotel</th>\n",
       "      <th>is_canceled</th>\n",
       "      <th>lead_time</th>\n",
       "      <th>arrival_date_year</th>\n",
       "      <th>arrival_date_month</th>\n",
       "      <th>arrival_date_week_number</th>\n",
       "      <th>arrival_date_day_of_month</th>\n",
       "      <th>stays_in_weekend_nights</th>\n",
       "      <th>stays_in_week_nights</th>\n",
       "      <th>adults</th>\n",
       "      <th>...</th>\n",
       "      <th>agent</th>\n",
       "      <th>company</th>\n",
       "      <th>days_in_waiting_list</th>\n",
       "      <th>customer_type</th>\n",
       "      <th>adr</th>\n",
       "      <th>required_car_parking_spaces</th>\n",
       "      <th>total_of_special_requests</th>\n",
       "      <th>reservation_status</th>\n",
       "      <th>reservation_status_date</th>\n",
       "      <th>kids</th>\n",
       "    </tr>\n",
       "  </thead>\n",
       "  <tbody>\n",
       "    <tr>\n",
       "      <th>0</th>\n",
       "      <td>Resort Hotel</td>\n",
       "      <td>0</td>\n",
       "      <td>342</td>\n",
       "      <td>2015.0</td>\n",
       "      <td>July</td>\n",
       "      <td>27</td>\n",
       "      <td>1</td>\n",
       "      <td>0</td>\n",
       "      <td>0</td>\n",
       "      <td>2</td>\n",
       "      <td>...</td>\n",
       "      <td>NaN</td>\n",
       "      <td>NaN</td>\n",
       "      <td>0.0</td>\n",
       "      <td>Transient</td>\n",
       "      <td>0.0</td>\n",
       "      <td>0.0</td>\n",
       "      <td>0.0</td>\n",
       "      <td>Check-Out</td>\n",
       "      <td>2015-07-01</td>\n",
       "      <td>NaN</td>\n",
       "    </tr>\n",
       "    <tr>\n",
       "      <th>1</th>\n",
       "      <td>Resort Hotel</td>\n",
       "      <td>0</td>\n",
       "      <td>737</td>\n",
       "      <td>2015.0</td>\n",
       "      <td>July</td>\n",
       "      <td>27</td>\n",
       "      <td>1</td>\n",
       "      <td>0</td>\n",
       "      <td>0</td>\n",
       "      <td>2</td>\n",
       "      <td>...</td>\n",
       "      <td>NaN</td>\n",
       "      <td>NaN</td>\n",
       "      <td>0.0</td>\n",
       "      <td>Transient</td>\n",
       "      <td>0.0</td>\n",
       "      <td>0.0</td>\n",
       "      <td>0.0</td>\n",
       "      <td>Check-Out</td>\n",
       "      <td>2015-07-01</td>\n",
       "      <td>NaN</td>\n",
       "    </tr>\n",
       "    <tr>\n",
       "      <th>2</th>\n",
       "      <td>Resort Hotel</td>\n",
       "      <td>0</td>\n",
       "      <td>7</td>\n",
       "      <td>2015.0</td>\n",
       "      <td>July</td>\n",
       "      <td>27</td>\n",
       "      <td>1</td>\n",
       "      <td>0</td>\n",
       "      <td>1</td>\n",
       "      <td>1</td>\n",
       "      <td>...</td>\n",
       "      <td>NaN</td>\n",
       "      <td>NaN</td>\n",
       "      <td>0.0</td>\n",
       "      <td>Transient</td>\n",
       "      <td>75.0</td>\n",
       "      <td>0.0</td>\n",
       "      <td>0.0</td>\n",
       "      <td>Check-Out</td>\n",
       "      <td>2015-07-02</td>\n",
       "      <td>NaN</td>\n",
       "    </tr>\n",
       "    <tr>\n",
       "      <th>3</th>\n",
       "      <td>Resort Hotel</td>\n",
       "      <td>0</td>\n",
       "      <td>13</td>\n",
       "      <td>2015.0</td>\n",
       "      <td>July</td>\n",
       "      <td>27</td>\n",
       "      <td>1</td>\n",
       "      <td>0</td>\n",
       "      <td>1</td>\n",
       "      <td>1</td>\n",
       "      <td>...</td>\n",
       "      <td>304.0</td>\n",
       "      <td>NaN</td>\n",
       "      <td>0.0</td>\n",
       "      <td>Transient</td>\n",
       "      <td>75.0</td>\n",
       "      <td>0.0</td>\n",
       "      <td>0.0</td>\n",
       "      <td>Check-Out</td>\n",
       "      <td>2015-07-02</td>\n",
       "      <td>NaN</td>\n",
       "    </tr>\n",
       "    <tr>\n",
       "      <th>4</th>\n",
       "      <td>Resort Hotel</td>\n",
       "      <td>0</td>\n",
       "      <td>14</td>\n",
       "      <td>2015.0</td>\n",
       "      <td>July</td>\n",
       "      <td>27</td>\n",
       "      <td>1</td>\n",
       "      <td>0</td>\n",
       "      <td>2</td>\n",
       "      <td>2</td>\n",
       "      <td>...</td>\n",
       "      <td>240.0</td>\n",
       "      <td>NaN</td>\n",
       "      <td>0.0</td>\n",
       "      <td>Transient</td>\n",
       "      <td>98.0</td>\n",
       "      <td>0.0</td>\n",
       "      <td>1.0</td>\n",
       "      <td>Check-Out</td>\n",
       "      <td>2015-07-03</td>\n",
       "      <td>NaN</td>\n",
       "    </tr>\n",
       "  </tbody>\n",
       "</table>\n",
       "<p>5 rows × 33 columns</p>\n",
       "</div>"
      ],
      "text/plain": [
       "          hotel  is_canceled  lead_time  arrival_date_year arrival_date_month  \\\n",
       "0  Resort Hotel            0        342             2015.0               July   \n",
       "1  Resort Hotel            0        737             2015.0               July   \n",
       "2  Resort Hotel            0          7             2015.0               July   \n",
       "3  Resort Hotel            0         13             2015.0               July   \n",
       "4  Resort Hotel            0         14             2015.0               July   \n",
       "\n",
       "   arrival_date_week_number  arrival_date_day_of_month  \\\n",
       "0                        27                          1   \n",
       "1                        27                          1   \n",
       "2                        27                          1   \n",
       "3                        27                          1   \n",
       "4                        27                          1   \n",
       "\n",
       "   stays_in_weekend_nights  stays_in_week_nights  adults  ...  agent  company  \\\n",
       "0                        0                     0       2  ...    NaN      NaN   \n",
       "1                        0                     0       2  ...    NaN      NaN   \n",
       "2                        0                     1       1  ...    NaN      NaN   \n",
       "3                        0                     1       1  ...  304.0      NaN   \n",
       "4                        0                     2       2  ...  240.0      NaN   \n",
       "\n",
       "  days_in_waiting_list customer_type   adr required_car_parking_spaces  \\\n",
       "0                  0.0     Transient   0.0                         0.0   \n",
       "1                  0.0     Transient   0.0                         0.0   \n",
       "2                  0.0     Transient  75.0                         0.0   \n",
       "3                  0.0     Transient  75.0                         0.0   \n",
       "4                  0.0     Transient  98.0                         0.0   \n",
       "\n",
       "   total_of_special_requests  reservation_status  reservation_status_date kids  \n",
       "0                        0.0           Check-Out               2015-07-01  NaN  \n",
       "1                        0.0           Check-Out               2015-07-01  NaN  \n",
       "2                        0.0           Check-Out               2015-07-02  NaN  \n",
       "3                        0.0           Check-Out               2015-07-02  NaN  \n",
       "4                        1.0           Check-Out               2015-07-03  NaN  \n",
       "\n",
       "[5 rows x 33 columns]"
      ]
     },
     "execution_count": 5,
     "metadata": {},
     "output_type": "execute_result"
    }
   ],
   "source": [
    "data.head()"
   ]
  },
  {
   "cell_type": "code",
   "execution_count": 6,
   "id": "20ed4bb6",
   "metadata": {},
   "outputs": [
    {
     "data": {
      "text/plain": [
       "country\n",
       "PRT    27559\n",
       "GBR     7595\n",
       "ESP     5275\n",
       "FRA     3037\n",
       "IRL     2371\n",
       "       ...  \n",
       "IMN        1\n",
       "NIC        1\n",
       "BEN        1\n",
       "VGB        1\n",
       "GAB        1\n",
       "Name: count, Length: 141, dtype: int64"
      ]
     },
     "execution_count": 6,
     "metadata": {},
     "output_type": "execute_result"
    }
   ],
   "source": [
    "data['country'].value_counts()"
   ]
  },
  {
   "cell_type": "markdown",
   "id": "279c9bb4",
   "metadata": {},
   "source": [
    "### Vamos a ver como lidiar con valores vacios dentro del dataframe"
   ]
  },
  {
   "cell_type": "code",
   "execution_count": 7,
   "id": "43bb5220",
   "metadata": {},
   "outputs": [
    {
     "data": {
      "text/plain": [
       "hotel                                 0\n",
       "is_canceled                           0\n",
       "lead_time                             0\n",
       "arrival_date_year                   588\n",
       "arrival_date_month                    0\n",
       "arrival_date_week_number              0\n",
       "arrival_date_day_of_month             0\n",
       "stays_in_weekend_nights               0\n",
       "stays_in_week_nights                  0\n",
       "adults                                0\n",
       "children                              4\n",
       "babies                                0\n",
       "meal                                  0\n",
       "country                             478\n",
       "market_segment                        0\n",
       "distribution_channel                  0\n",
       "is_repeated_guest                     0\n",
       "previous_cancellations                0\n",
       "previous_bookings_not_canceled        0\n",
       "reserved_room_type                    0\n",
       "assigned_room_type                    0\n",
       "booking_changes                       0\n",
       "deposit_type                          0\n",
       "agent                              9132\n",
       "company                           55416\n",
       "days_in_waiting_list                  1\n",
       "customer_type                       589\n",
       "adr                                   1\n",
       "required_car_parking_spaces         589\n",
       "total_of_special_requests             1\n",
       "reservation_status                  589\n",
       "reservation_status_date               1\n",
       "kids                              58694\n",
       "dtype: int64"
      ]
     },
     "execution_count": 7,
     "metadata": {},
     "output_type": "execute_result"
    }
   ],
   "source": [
    "data.isna().sum()"
   ]
  },
  {
   "cell_type": "markdown",
   "id": "0bd74fb6",
   "metadata": {},
   "source": [
    "Vamos a eliminar los registros que contienen valores vacios en alguna de las siguientes columnas: 'arrival_date_year', 'country', 'reservation_status' dado que no son una gran cantidad y no tienen sentido dentro del contexto de negocio de demanda de ocupación hotelera"
   ]
  },
  {
   "cell_type": "code",
   "execution_count": 8,
   "id": "aab882f2",
   "metadata": {},
   "outputs": [],
   "source": [
    "data = data.dropna(subset=['arrival_date_year', 'country', 'reservation_status'])"
   ]
  },
  {
   "cell_type": "markdown",
   "id": "734693dc",
   "metadata": {},
   "source": [
    "Se va a ignorar la columna \"kids\" ya que no se encuentra dentro del diccionario de datos y adicionalmente todos sus valores son nulos (NaN) y se van a llenar los registros vacios de las columnas \"company\",\"agent\" y \"children\" con 0."
   ]
  },
  {
   "cell_type": "code",
   "execution_count": 9,
   "id": "bf41d38f",
   "metadata": {},
   "outputs": [
    {
     "name": "stderr",
     "output_type": "stream",
     "text": [
      "C:\\Users\\carlo\\AppData\\Local\\Temp\\ipykernel_19144\\36674355.py:2: FutureWarning: A value is trying to be set on a copy of a DataFrame or Series through chained assignment using an inplace method.\n",
      "The behavior will change in pandas 3.0. This inplace method will never work because the intermediate object on which we are setting values always behaves as a copy.\n",
      "\n",
      "For example, when doing 'df[col].method(value, inplace=True)', try using 'df.method({col: value}, inplace=True)' or df[col] = df[col].method(value) instead, to perform the operation inplace on the original object.\n",
      "\n",
      "\n",
      "  data[\"company\"].fillna(0, inplace=True)\n",
      "C:\\Users\\carlo\\AppData\\Local\\Temp\\ipykernel_19144\\36674355.py:3: FutureWarning: A value is trying to be set on a copy of a DataFrame or Series through chained assignment using an inplace method.\n",
      "The behavior will change in pandas 3.0. This inplace method will never work because the intermediate object on which we are setting values always behaves as a copy.\n",
      "\n",
      "For example, when doing 'df[col].method(value, inplace=True)', try using 'df.method({col: value}, inplace=True)' or df[col] = df[col].method(value) instead, to perform the operation inplace on the original object.\n",
      "\n",
      "\n",
      "  data[\"agent\"].fillna(0, inplace=True)\n",
      "C:\\Users\\carlo\\AppData\\Local\\Temp\\ipykernel_19144\\36674355.py:4: FutureWarning: A value is trying to be set on a copy of a DataFrame or Series through chained assignment using an inplace method.\n",
      "The behavior will change in pandas 3.0. This inplace method will never work because the intermediate object on which we are setting values always behaves as a copy.\n",
      "\n",
      "For example, when doing 'df[col].method(value, inplace=True)', try using 'df.method({col: value}, inplace=True)' or df[col] = df[col].method(value) instead, to perform the operation inplace on the original object.\n",
      "\n",
      "\n",
      "  data['children'].fillna(0, inplace=True)\n"
     ]
    }
   ],
   "source": [
    "data.drop(columns=['kids'], inplace=True)\n",
    "data[\"company\"].fillna(0, inplace=True)\n",
    "data[\"agent\"].fillna(0, inplace=True)\n",
    "data['children'].fillna(0, inplace=True)\n",
    "data['children'] = data['children'].astype(int)"
   ]
  },
  {
   "cell_type": "code",
   "execution_count": 10,
   "id": "555e7fc8",
   "metadata": {},
   "outputs": [
    {
     "data": {
      "text/plain": [
       "company\n",
       "0        54021\n",
       "223.0      760\n",
       "281.0      136\n",
       "154.0      122\n",
       "405.0       98\n",
       "         ...  \n",
       "219.0        1\n",
       "153.0        1\n",
       "186          1\n",
       "38           1\n",
       "316          1\n",
       "Name: count, Length: 273, dtype: int64"
      ]
     },
     "execution_count": 10,
     "metadata": {},
     "output_type": "execute_result"
    }
   ],
   "source": [
    "data['company'].value_counts()"
   ]
  },
  {
   "cell_type": "markdown",
   "id": "5a7f9d98",
   "metadata": {},
   "source": [
    "#### Vamos a transformar algunas columnas para tener una unica que nos indique la fecha de llegada para cada reserva"
   ]
  },
  {
   "cell_type": "code",
   "execution_count": 11,
   "id": "e080aaff",
   "metadata": {},
   "outputs": [],
   "source": [
    "date_cols = ['arrival_date_year', 'arrival_date_month', 'arrival_date_day_of_month']\n",
    "\n",
    "def month_to_number(month):\n",
    "    months = ['January', 'February', 'March', 'April', 'May', 'June', 'July', 'August', 'September', 'October', 'November', 'December']\n",
    "    return months.index(month) + 1\n",
    "for col in date_cols:\n",
    "    if col == 'arrival_date_month':\n",
    "        data[col] = data[col].apply(month_to_number)"
   ]
  },
  {
   "cell_type": "code",
   "execution_count": 12,
   "id": "11bfc071",
   "metadata": {},
   "outputs": [],
   "source": [
    "data['arrival_date_year'] = data['arrival_date_year'].astype('Int64', errors='ignore')\n",
    "data['arrival_date_month'] = pd.to_numeric(data['arrival_date_month'], errors='coerce')\n",
    "data['arrival_date_day_of_month'] = data['arrival_date_day_of_month'].astype(int)"
   ]
  },
  {
   "cell_type": "code",
   "execution_count": 13,
   "id": "21d3dd5a",
   "metadata": {},
   "outputs": [
    {
     "data": {
      "text/plain": [
       "<IntegerArray>\n",
       "[2015, 20016, 2016, 2017]\n",
       "Length: 4, dtype: Int64"
      ]
     },
     "execution_count": 13,
     "metadata": {},
     "output_type": "execute_result"
    }
   ],
   "source": [
    "data['arrival_date_year'].unique()"
   ]
  },
  {
   "cell_type": "code",
   "execution_count": 14,
   "id": "f8f462f7",
   "metadata": {},
   "outputs": [
    {
     "data": {
      "text/plain": [
       "arrival_date_year\n",
       "2015     14255\n",
       "2016     29572\n",
       "2017     12830\n",
       "20016      602\n",
       "Name: count, dtype: Int64"
      ]
     },
     "execution_count": 14,
     "metadata": {},
     "output_type": "execute_result"
    }
   ],
   "source": [
    "data[\"arrival_date_year\"].value_counts().sort_index()"
   ]
  },
  {
   "cell_type": "markdown",
   "id": "a6320d19",
   "metadata": {},
   "source": [
    "Se nota que hay registros que tienen \"20016\" en la columna \"arrival_date_year\" pero al ver el total de veces que aparece podria considerarse un typo por lo que se van a reemplazar por \"2016\""
   ]
  },
  {
   "cell_type": "code",
   "execution_count": 15,
   "id": "ff97ee47",
   "metadata": {},
   "outputs": [],
   "source": [
    "data['arrival_date_year'] = data['arrival_date_year'].replace(20016, 2016)"
   ]
  },
  {
   "cell_type": "code",
   "execution_count": 16,
   "id": "e1eb131b",
   "metadata": {},
   "outputs": [],
   "source": [
    "data['arrival_date'] = pd.to_datetime(\n",
    "    data[['arrival_date_year', 'arrival_date_month', 'arrival_date_day_of_month']].astype(str).agg('-'.join, axis=1),\n",
    "    format='%Y-%m-%d'\n",
    ")"
   ]
  },
  {
   "cell_type": "code",
   "execution_count": 17,
   "id": "26e9e33b",
   "metadata": {},
   "outputs": [
    {
     "data": {
      "text/html": [
       "<div>\n",
       "<style scoped>\n",
       "    .dataframe tbody tr th:only-of-type {\n",
       "        vertical-align: middle;\n",
       "    }\n",
       "\n",
       "    .dataframe tbody tr th {\n",
       "        vertical-align: top;\n",
       "    }\n",
       "\n",
       "    .dataframe thead th {\n",
       "        text-align: right;\n",
       "    }\n",
       "</style>\n",
       "<table border=\"1\" class=\"dataframe\">\n",
       "  <thead>\n",
       "    <tr style=\"text-align: right;\">\n",
       "      <th></th>\n",
       "      <th>hotel</th>\n",
       "      <th>is_canceled</th>\n",
       "      <th>lead_time</th>\n",
       "      <th>arrival_date_year</th>\n",
       "      <th>arrival_date_month</th>\n",
       "      <th>arrival_date_week_number</th>\n",
       "      <th>arrival_date_day_of_month</th>\n",
       "      <th>stays_in_weekend_nights</th>\n",
       "      <th>stays_in_week_nights</th>\n",
       "      <th>adults</th>\n",
       "      <th>...</th>\n",
       "      <th>agent</th>\n",
       "      <th>company</th>\n",
       "      <th>days_in_waiting_list</th>\n",
       "      <th>customer_type</th>\n",
       "      <th>adr</th>\n",
       "      <th>required_car_parking_spaces</th>\n",
       "      <th>total_of_special_requests</th>\n",
       "      <th>reservation_status</th>\n",
       "      <th>reservation_status_date</th>\n",
       "      <th>arrival_date</th>\n",
       "    </tr>\n",
       "  </thead>\n",
       "  <tbody>\n",
       "    <tr>\n",
       "      <th>0</th>\n",
       "      <td>Resort Hotel</td>\n",
       "      <td>0</td>\n",
       "      <td>342</td>\n",
       "      <td>2015</td>\n",
       "      <td>7</td>\n",
       "      <td>27</td>\n",
       "      <td>1</td>\n",
       "      <td>0</td>\n",
       "      <td>0</td>\n",
       "      <td>2</td>\n",
       "      <td>...</td>\n",
       "      <td>0.0</td>\n",
       "      <td>0</td>\n",
       "      <td>0.0</td>\n",
       "      <td>Transient</td>\n",
       "      <td>0.0</td>\n",
       "      <td>0.0</td>\n",
       "      <td>0.0</td>\n",
       "      <td>Check-Out</td>\n",
       "      <td>2015-07-01</td>\n",
       "      <td>2015-07-01</td>\n",
       "    </tr>\n",
       "    <tr>\n",
       "      <th>1</th>\n",
       "      <td>Resort Hotel</td>\n",
       "      <td>0</td>\n",
       "      <td>737</td>\n",
       "      <td>2015</td>\n",
       "      <td>7</td>\n",
       "      <td>27</td>\n",
       "      <td>1</td>\n",
       "      <td>0</td>\n",
       "      <td>0</td>\n",
       "      <td>2</td>\n",
       "      <td>...</td>\n",
       "      <td>0.0</td>\n",
       "      <td>0</td>\n",
       "      <td>0.0</td>\n",
       "      <td>Transient</td>\n",
       "      <td>0.0</td>\n",
       "      <td>0.0</td>\n",
       "      <td>0.0</td>\n",
       "      <td>Check-Out</td>\n",
       "      <td>2015-07-01</td>\n",
       "      <td>2015-07-01</td>\n",
       "    </tr>\n",
       "    <tr>\n",
       "      <th>2</th>\n",
       "      <td>Resort Hotel</td>\n",
       "      <td>0</td>\n",
       "      <td>7</td>\n",
       "      <td>2015</td>\n",
       "      <td>7</td>\n",
       "      <td>27</td>\n",
       "      <td>1</td>\n",
       "      <td>0</td>\n",
       "      <td>1</td>\n",
       "      <td>1</td>\n",
       "      <td>...</td>\n",
       "      <td>0.0</td>\n",
       "      <td>0</td>\n",
       "      <td>0.0</td>\n",
       "      <td>Transient</td>\n",
       "      <td>75.0</td>\n",
       "      <td>0.0</td>\n",
       "      <td>0.0</td>\n",
       "      <td>Check-Out</td>\n",
       "      <td>2015-07-02</td>\n",
       "      <td>2015-07-01</td>\n",
       "    </tr>\n",
       "    <tr>\n",
       "      <th>3</th>\n",
       "      <td>Resort Hotel</td>\n",
       "      <td>0</td>\n",
       "      <td>13</td>\n",
       "      <td>2015</td>\n",
       "      <td>7</td>\n",
       "      <td>27</td>\n",
       "      <td>1</td>\n",
       "      <td>0</td>\n",
       "      <td>1</td>\n",
       "      <td>1</td>\n",
       "      <td>...</td>\n",
       "      <td>304.0</td>\n",
       "      <td>0</td>\n",
       "      <td>0.0</td>\n",
       "      <td>Transient</td>\n",
       "      <td>75.0</td>\n",
       "      <td>0.0</td>\n",
       "      <td>0.0</td>\n",
       "      <td>Check-Out</td>\n",
       "      <td>2015-07-02</td>\n",
       "      <td>2015-07-01</td>\n",
       "    </tr>\n",
       "    <tr>\n",
       "      <th>4</th>\n",
       "      <td>Resort Hotel</td>\n",
       "      <td>0</td>\n",
       "      <td>14</td>\n",
       "      <td>2015</td>\n",
       "      <td>7</td>\n",
       "      <td>27</td>\n",
       "      <td>1</td>\n",
       "      <td>0</td>\n",
       "      <td>2</td>\n",
       "      <td>2</td>\n",
       "      <td>...</td>\n",
       "      <td>240.0</td>\n",
       "      <td>0</td>\n",
       "      <td>0.0</td>\n",
       "      <td>Transient</td>\n",
       "      <td>98.0</td>\n",
       "      <td>0.0</td>\n",
       "      <td>1.0</td>\n",
       "      <td>Check-Out</td>\n",
       "      <td>2015-07-03</td>\n",
       "      <td>2015-07-01</td>\n",
       "    </tr>\n",
       "  </tbody>\n",
       "</table>\n",
       "<p>5 rows × 33 columns</p>\n",
       "</div>"
      ],
      "text/plain": [
       "          hotel  is_canceled  lead_time  arrival_date_year  \\\n",
       "0  Resort Hotel            0        342               2015   \n",
       "1  Resort Hotel            0        737               2015   \n",
       "2  Resort Hotel            0          7               2015   \n",
       "3  Resort Hotel            0         13               2015   \n",
       "4  Resort Hotel            0         14               2015   \n",
       "\n",
       "   arrival_date_month  arrival_date_week_number  arrival_date_day_of_month  \\\n",
       "0                   7                        27                          1   \n",
       "1                   7                        27                          1   \n",
       "2                   7                        27                          1   \n",
       "3                   7                        27                          1   \n",
       "4                   7                        27                          1   \n",
       "\n",
       "   stays_in_weekend_nights  stays_in_week_nights  adults  ...  agent  company  \\\n",
       "0                        0                     0       2  ...    0.0        0   \n",
       "1                        0                     0       2  ...    0.0        0   \n",
       "2                        0                     1       1  ...    0.0        0   \n",
       "3                        0                     1       1  ...  304.0        0   \n",
       "4                        0                     2       2  ...  240.0        0   \n",
       "\n",
       "  days_in_waiting_list customer_type   adr required_car_parking_spaces  \\\n",
       "0                  0.0     Transient   0.0                         0.0   \n",
       "1                  0.0     Transient   0.0                         0.0   \n",
       "2                  0.0     Transient  75.0                         0.0   \n",
       "3                  0.0     Transient  75.0                         0.0   \n",
       "4                  0.0     Transient  98.0                         0.0   \n",
       "\n",
       "   total_of_special_requests  reservation_status  reservation_status_date  \\\n",
       "0                        0.0           Check-Out               2015-07-01   \n",
       "1                        0.0           Check-Out               2015-07-01   \n",
       "2                        0.0           Check-Out               2015-07-02   \n",
       "3                        0.0           Check-Out               2015-07-02   \n",
       "4                        1.0           Check-Out               2015-07-03   \n",
       "\n",
       "  arrival_date  \n",
       "0   2015-07-01  \n",
       "1   2015-07-01  \n",
       "2   2015-07-01  \n",
       "3   2015-07-01  \n",
       "4   2015-07-01  \n",
       "\n",
       "[5 rows x 33 columns]"
      ]
     },
     "execution_count": 17,
     "metadata": {},
     "output_type": "execute_result"
    }
   ],
   "source": [
    "data.head()"
   ]
  },
  {
   "cell_type": "markdown",
   "id": "e3c5a2b3",
   "metadata": {},
   "source": [
    "Veamos ahora a distribucion de los datos en cuanto al tipo de hotel que se reserva"
   ]
  },
  {
   "cell_type": "code",
   "execution_count": 18,
   "id": "63312ab4",
   "metadata": {},
   "outputs": [
    {
     "name": "stdout",
     "output_type": "stream",
     "text": [
      "Values:  hotel\n",
      "Resort Hotel    38783\n",
      "City Hotel      18476\n",
      "Name: count, dtype: int64\n",
      "Percent:  hotel\n",
      "Resort Hotel    67.732584\n",
      "City Hotel      32.267416\n",
      "Name: proportion, dtype: float64\n"
     ]
    }
   ],
   "source": [
    "print( \"Values: \", data['hotel'].value_counts())\n",
    "\n",
    "print( \"Percent: \", data['hotel'].value_counts(normalize=True) * 100)"
   ]
  },
  {
   "cell_type": "markdown",
   "id": "4d496200",
   "metadata": {},
   "source": [
    "Vemos que el 68% de las reservas se realizan en Resorts"
   ]
  },
  {
   "cell_type": "code",
   "execution_count": 19,
   "id": "b55a935a",
   "metadata": {},
   "outputs": [
    {
     "name": "stdout",
     "output_type": "stream",
     "text": [
      "Values:  is_canceled\n",
      "0    33535\n",
      "1    23724\n",
      "Name: count, dtype: int64\n",
      "Percent:  is_canceled\n",
      "0    58.567212\n",
      "1    41.432788\n",
      "Name: proportion, dtype: float64\n"
     ]
    }
   ],
   "source": [
    "print( \"Values: \", data['is_canceled'].value_counts())\n",
    "\n",
    "print( \"Percent: \", data['is_canceled'].value_counts(normalize=True) * 100)"
   ]
  },
  {
   "cell_type": "markdown",
   "id": "dc58e5f7",
   "metadata": {},
   "source": [
    "#### De lo anterior se evidencia que la mayoria de las reservas se realizan para Resorts, siendo estas el 68% de los datos y que el 41% de los datos, son registros de reservas canceladas"
   ]
  },
  {
   "cell_type": "code",
   "execution_count": 20,
   "id": "7b1cf470",
   "metadata": {},
   "outputs": [
    {
     "data": {
      "image/png": "[encoded data removed]",
      "text/plain": [
       "<Figure size 1000x500 with 1 Axes>"
      ]
     },
     "metadata": {},
     "output_type": "display_data"
    }
   ],
   "source": [
    "data[\"arrival_date_month\"].hist(bins=24, figsize=(10,5))\n",
    "plt.show()"
   ]
  },
  {
   "cell_type": "markdown",
   "id": "6dfc4621",
   "metadata": {},
   "source": [
    "Vemos que los meses para los que se realizan mas reservas son Julio, Agosto, Septiembre y Octubre, mientras que los que reciben menos reservas son Noviembre, Diciembre y Enero."
   ]
  },
  {
   "cell_type": "markdown",
   "id": "a04a3a2e",
   "metadata": {},
   "source": [
    "### Ahora vamos a comparar las reservas con respecto al numero de noches que se quedan entre semana contra el numero de noches que se quedan en fines de semana"
   ]
  },
  {
   "cell_type": "code",
   "execution_count": 21,
   "id": "f6b63ec8",
   "metadata": {},
   "outputs": [],
   "source": [
    "def days_stayed(df):\n",
    "\n",
    "    column1_counts = df[\"stays_in_week_nights\"].value_counts().sort_index()\n",
    "    column2_counts = df[\"stays_in_weekend_nights\"].value_counts().sort_index()\n",
    "\n",
    "    # Create a DataFrame to hold both columns for comparison\n",
    "    df_counts = pd.DataFrame({\n",
    "        'stays_in_week_nights': column1_counts,\n",
    "        'stays_in_weekend_nights': column2_counts\n",
    "    })\n",
    "    return df_counts"
   ]
  },
  {
   "cell_type": "code",
   "execution_count": 22,
   "id": "0347a34d",
   "metadata": {},
   "outputs": [],
   "source": [
    "stayed = days_stayed(data)"
   ]
  },
  {
   "cell_type": "code",
   "execution_count": 23,
   "id": "fb3a8f1a",
   "metadata": {},
   "outputs": [
    {
     "name": "stdout",
     "output_type": "stream",
     "text": [
      "Skewness: 2.294823920860157\n",
      "Kurtosis: 4.288580670189706\n"
     ]
    }
   ],
   "source": [
    "# Computing skewness and kurtosis\n",
    "print(\"Skewness:\", stayed['stays_in_week_nights'].skew())\n",
    "print(\"Kurtosis:\", stayed['stays_in_week_nights'].kurtosis())"
   ]
  },
  {
   "cell_type": "code",
   "execution_count": 24,
   "id": "1c7d14ea",
   "metadata": {},
   "outputs": [
    {
     "name": "stdout",
     "output_type": "stream",
     "text": [
      "Skewness: 1.8630734167174043\n",
      "Kurtosis: 2.100283819852897\n"
     ]
    }
   ],
   "source": [
    "# Computing skewness and kurtosis\n",
    "print(\"Skewness:\", stayed['stays_in_weekend_nights'].skew())\n",
    "print(\"Kurtosis:\", stayed['stays_in_weekend_nights'].kurtosis())"
   ]
  },
  {
   "cell_type": "markdown",
   "id": "2db962ea",
   "metadata": {},
   "source": [
    "Al analizar un poco los valores de Skewness y Kurtosis para los días entre semana notamos que al tener una kurtosis mayor a 4 podría decirse que los valores del atributo contienen bastantes outliers, tal y como podemos apreciar en la grafica de abajo, mientras que para los dias de fines de semana no contienen tantos outliers. \n",
    "Por otro lado, si revisamos los valores de Skewness vemos que para ambos atributos tenemos una distribución asimetrica de los datos, dado que el valor del estadístico es mayor a 1."
   ]
  },
  {
   "cell_type": "code",
   "execution_count": 25,
   "id": "2a2022cd",
   "metadata": {},
   "outputs": [
    {
     "data": {
      "image/png": "[encoded data removed]",
      "text/plain": [
       "<Figure size 1500x500 with 1 Axes>"
      ]
     },
     "metadata": {},
     "output_type": "display_data"
    }
   ],
   "source": [
    "stayed.plot(kind='bar', figsize=(15, 5))\n",
    "plt.show()"
   ]
  },
  {
   "cell_type": "code",
   "execution_count": 26,
   "id": "b089abfc",
   "metadata": {},
   "outputs": [
    {
     "data": {
      "text/plain": [
       "array(['Direct', 'Corporate', 'TA/TO', 'Undefined', 'GDS'], dtype=object)"
      ]
     },
     "execution_count": 26,
     "metadata": {},
     "output_type": "execute_result"
    }
   ],
   "source": [
    "data['distribution_channel'].unique()"
   ]
  },
  {
   "cell_type": "code",
   "execution_count": 27,
   "id": "2d7bd169",
   "metadata": {},
   "outputs": [
    {
     "data": {
      "image/png": "[encoded data removed]",
      "text/plain": [
       "<Figure size 1300x700 with 1 Axes>"
      ]
     },
     "metadata": {},
     "output_type": "display_data"
    }
   ],
   "source": [
    "# Calculate cancellation rate by distribution channel\n",
    "cancellation_rate = data.groupby('distribution_channel')['is_canceled'].mean() * 100\n",
    "\n",
    "plt.figure(figsize=(13, 7))\n",
    "plt.bar(cancellation_rate.index, cancellation_rate.values, color='orange')\n",
    "plt.title('Cancellation Rate by Distribution Channel')\n",
    "plt.xlabel('Distribution Channel')\n",
    "plt.ylabel('Cancellation Rate (%)')\n",
    "plt.show()"
   ]
  },
  {
   "cell_type": "markdown",
   "id": "2763d482",
   "metadata": {},
   "source": [
    "## Analisis de los datos correspondientes a reservas canceladas"
   ]
  },
  {
   "cell_type": "code",
   "execution_count": 28,
   "id": "54d3284b",
   "metadata": {},
   "outputs": [
    {
     "data": {
      "text/html": [
       "<div>\n",
       "<style scoped>\n",
       "    .dataframe tbody tr th:only-of-type {\n",
       "        vertical-align: middle;\n",
       "    }\n",
       "\n",
       "    .dataframe tbody tr th {\n",
       "        vertical-align: top;\n",
       "    }\n",
       "\n",
       "    .dataframe thead th {\n",
       "        text-align: right;\n",
       "    }\n",
       "</style>\n",
       "<table border=\"1\" class=\"dataframe\">\n",
       "  <thead>\n",
       "    <tr style=\"text-align: right;\">\n",
       "      <th></th>\n",
       "      <th>hotel</th>\n",
       "      <th>is_canceled</th>\n",
       "      <th>lead_time</th>\n",
       "      <th>arrival_date_year</th>\n",
       "      <th>arrival_date_month</th>\n",
       "      <th>arrival_date_week_number</th>\n",
       "      <th>arrival_date_day_of_month</th>\n",
       "      <th>stays_in_weekend_nights</th>\n",
       "      <th>stays_in_week_nights</th>\n",
       "      <th>adults</th>\n",
       "      <th>...</th>\n",
       "      <th>agent</th>\n",
       "      <th>company</th>\n",
       "      <th>days_in_waiting_list</th>\n",
       "      <th>customer_type</th>\n",
       "      <th>adr</th>\n",
       "      <th>required_car_parking_spaces</th>\n",
       "      <th>total_of_special_requests</th>\n",
       "      <th>reservation_status</th>\n",
       "      <th>reservation_status_date</th>\n",
       "      <th>arrival_date</th>\n",
       "    </tr>\n",
       "  </thead>\n",
       "  <tbody>\n",
       "    <tr>\n",
       "      <th>8</th>\n",
       "      <td>Resort Hotel</td>\n",
       "      <td>1</td>\n",
       "      <td>85</td>\n",
       "      <td>2015</td>\n",
       "      <td>7</td>\n",
       "      <td>27</td>\n",
       "      <td>1</td>\n",
       "      <td>0</td>\n",
       "      <td>3</td>\n",
       "      <td>2</td>\n",
       "      <td>...</td>\n",
       "      <td>240.0</td>\n",
       "      <td>0</td>\n",
       "      <td>0.0</td>\n",
       "      <td>Transient</td>\n",
       "      <td>82.0</td>\n",
       "      <td>0.0</td>\n",
       "      <td>1.0</td>\n",
       "      <td>Canceled</td>\n",
       "      <td>2015-05-06</td>\n",
       "      <td>2015-07-01</td>\n",
       "    </tr>\n",
       "    <tr>\n",
       "      <th>9</th>\n",
       "      <td>Resort Hotel</td>\n",
       "      <td>1</td>\n",
       "      <td>75</td>\n",
       "      <td>2015</td>\n",
       "      <td>7</td>\n",
       "      <td>27</td>\n",
       "      <td>1</td>\n",
       "      <td>0</td>\n",
       "      <td>3</td>\n",
       "      <td>2</td>\n",
       "      <td>...</td>\n",
       "      <td>15.0</td>\n",
       "      <td>0</td>\n",
       "      <td>0.0</td>\n",
       "      <td>Transient</td>\n",
       "      <td>105.5</td>\n",
       "      <td>0.0</td>\n",
       "      <td>0.0</td>\n",
       "      <td>Canceled</td>\n",
       "      <td>2015-04-22</td>\n",
       "      <td>2015-07-01</td>\n",
       "    </tr>\n",
       "    <tr>\n",
       "      <th>10</th>\n",
       "      <td>Resort Hotel</td>\n",
       "      <td>1</td>\n",
       "      <td>23</td>\n",
       "      <td>2015</td>\n",
       "      <td>7</td>\n",
       "      <td>27</td>\n",
       "      <td>1</td>\n",
       "      <td>0</td>\n",
       "      <td>4</td>\n",
       "      <td>2</td>\n",
       "      <td>...</td>\n",
       "      <td>240.0</td>\n",
       "      <td>0</td>\n",
       "      <td>0.0</td>\n",
       "      <td>Transient</td>\n",
       "      <td>123.0</td>\n",
       "      <td>0.0</td>\n",
       "      <td>0.0</td>\n",
       "      <td>Canceled</td>\n",
       "      <td>2015-06-23</td>\n",
       "      <td>2015-07-01</td>\n",
       "    </tr>\n",
       "    <tr>\n",
       "      <th>27</th>\n",
       "      <td>Resort Hotel</td>\n",
       "      <td>1</td>\n",
       "      <td>60</td>\n",
       "      <td>2015</td>\n",
       "      <td>7</td>\n",
       "      <td>27</td>\n",
       "      <td>1</td>\n",
       "      <td>2</td>\n",
       "      <td>5</td>\n",
       "      <td>2</td>\n",
       "      <td>...</td>\n",
       "      <td>240.0</td>\n",
       "      <td>0</td>\n",
       "      <td>0.0</td>\n",
       "      <td>Transient</td>\n",
       "      <td>107.0</td>\n",
       "      <td>0.0</td>\n",
       "      <td>2.0</td>\n",
       "      <td>Canceled</td>\n",
       "      <td>2015-05-11</td>\n",
       "      <td>2015-07-01</td>\n",
       "    </tr>\n",
       "    <tr>\n",
       "      <th>32</th>\n",
       "      <td>Resort Hotel</td>\n",
       "      <td>1</td>\n",
       "      <td>96</td>\n",
       "      <td>2015</td>\n",
       "      <td>7</td>\n",
       "      <td>27</td>\n",
       "      <td>1</td>\n",
       "      <td>2</td>\n",
       "      <td>8</td>\n",
       "      <td>2</td>\n",
       "      <td>...</td>\n",
       "      <td>0.0</td>\n",
       "      <td>0</td>\n",
       "      <td>0.0</td>\n",
       "      <td>Transient</td>\n",
       "      <td>108.3</td>\n",
       "      <td>0.0</td>\n",
       "      <td>2.0</td>\n",
       "      <td>Canceled</td>\n",
       "      <td>2015-05-29</td>\n",
       "      <td>2015-07-01</td>\n",
       "    </tr>\n",
       "  </tbody>\n",
       "</table>\n",
       "<p>5 rows × 33 columns</p>\n",
       "</div>"
      ],
      "text/plain": [
       "           hotel  is_canceled  lead_time  arrival_date_year  \\\n",
       "8   Resort Hotel            1         85               2015   \n",
       "9   Resort Hotel            1         75               2015   \n",
       "10  Resort Hotel            1         23               2015   \n",
       "27  Resort Hotel            1         60               2015   \n",
       "32  Resort Hotel            1         96               2015   \n",
       "\n",
       "    arrival_date_month  arrival_date_week_number  arrival_date_day_of_month  \\\n",
       "8                    7                        27                          1   \n",
       "9                    7                        27                          1   \n",
       "10                   7                        27                          1   \n",
       "27                   7                        27                          1   \n",
       "32                   7                        27                          1   \n",
       "\n",
       "    stays_in_weekend_nights  stays_in_week_nights  adults  ...  agent  \\\n",
       "8                         0                     3       2  ...  240.0   \n",
       "9                         0                     3       2  ...   15.0   \n",
       "10                        0                     4       2  ...  240.0   \n",
       "27                        2                     5       2  ...  240.0   \n",
       "32                        2                     8       2  ...    0.0   \n",
       "\n",
       "    company days_in_waiting_list customer_type    adr  \\\n",
       "8         0                  0.0     Transient   82.0   \n",
       "9         0                  0.0     Transient  105.5   \n",
       "10        0                  0.0     Transient  123.0   \n",
       "27        0                  0.0     Transient  107.0   \n",
       "32        0                  0.0     Transient  108.3   \n",
       "\n",
       "   required_car_parking_spaces  total_of_special_requests  reservation_status  \\\n",
       "8                          0.0                        1.0            Canceled   \n",
       "9                          0.0                        0.0            Canceled   \n",
       "10                         0.0                        0.0            Canceled   \n",
       "27                         0.0                        2.0            Canceled   \n",
       "32                         0.0                        2.0            Canceled   \n",
       "\n",
       "    reservation_status_date arrival_date  \n",
       "8                2015-05-06   2015-07-01  \n",
       "9                2015-04-22   2015-07-01  \n",
       "10               2015-06-23   2015-07-01  \n",
       "27               2015-05-11   2015-07-01  \n",
       "32               2015-05-29   2015-07-01  \n",
       "\n",
       "[5 rows x 33 columns]"
      ]
     },
     "execution_count": 28,
     "metadata": {},
     "output_type": "execute_result"
    }
   ],
   "source": [
    "canceled = data[data['is_canceled'] == 1]\n",
    "canceled.head()"
   ]
  },
  {
   "cell_type": "code",
   "execution_count": 29,
   "id": "82c28920",
   "metadata": {},
   "outputs": [
    {
     "data": {
      "text/plain": [
       "hotel\n",
       "City Hotel      12861\n",
       "Resort Hotel    10863\n",
       "Name: count, dtype: int64"
      ]
     },
     "execution_count": 29,
     "metadata": {},
     "output_type": "execute_result"
    }
   ],
   "source": [
    "canceled['hotel'].value_counts()"
   ]
  },
  {
   "cell_type": "code",
   "execution_count": 30,
   "id": "951f83ae",
   "metadata": {},
   "outputs": [
    {
     "data": {
      "image/png": "[encoded data removed]",
      "text/plain": [
       "<Figure size 1000x500 with 1 Axes>"
      ]
     },
     "metadata": {},
     "output_type": "display_data"
    }
   ],
   "source": [
    "canceled[\"arrival_date_month\"].hist(bins=24, figsize=(10,5))\n",
    "plt.show()"
   ]
  },
  {
   "cell_type": "markdown",
   "id": "6a5f588c",
   "metadata": {},
   "source": [
    "Podemos notar que los meses que tienen mas reservas canceladas son Julio, Agosto, Septiembre y Octubre."
   ]
  },
  {
   "cell_type": "code",
   "execution_count": 31,
   "id": "0e029bac",
   "metadata": {},
   "outputs": [],
   "source": [
    "stayed_canceled = days_stayed(canceled)"
   ]
  },
  {
   "cell_type": "code",
   "execution_count": 32,
   "id": "7ecc67c4",
   "metadata": {},
   "outputs": [
    {
     "data": {
      "image/png": "[encoded data removed]",
      "text/plain": [
       "<Figure size 1500x500 with 1 Axes>"
      ]
     },
     "metadata": {},
     "output_type": "display_data"
    }
   ],
   "source": [
    "stayed_canceled.plot(kind='bar', figsize=(15, 5))\n",
    "plt.show()"
   ]
  },
  {
   "cell_type": "code",
   "execution_count": 33,
   "id": "318772d7",
   "metadata": {},
   "outputs": [
    {
     "data": {
      "image/png": "[encoded data removed]",
      "text/plain": [
       "<Figure size 1000x500 with 1 Axes>"
      ]
     },
     "metadata": {},
     "output_type": "display_data"
    }
   ],
   "source": [
    "canceled['lead_time'].hist(bins=30, figsize=(10,5))\n",
    "plt.show()"
   ]
  },
  {
   "cell_type": "markdown",
   "id": "d55dbd28",
   "metadata": {},
   "source": [
    "A partir de los datos de la columna \"lead_time\" podemos evidenciar que la mayoria de las reservas canceladas son a viajes que podrían considerarse como espontáneos o de último minuto."
   ]
  },
  {
   "cell_type": "code",
   "execution_count": 34,
   "id": "cf03d2a8",
   "metadata": {},
   "outputs": [
    {
     "data": {
      "text/plain": [
       "count    23724.000000\n",
       "mean         4.723360\n",
       "std         24.408345\n",
       "min          0.000000\n",
       "25%          0.000000\n",
       "50%          0.000000\n",
       "75%          0.000000\n",
       "max        391.000000\n",
       "Name: days_in_waiting_list, dtype: float64"
      ]
     },
     "execution_count": 34,
     "metadata": {},
     "output_type": "execute_result"
    }
   ],
   "source": [
    "canceled[\"days_in_waiting_list\"].describe()"
   ]
  },
  {
   "cell_type": "code",
   "execution_count": 35,
   "id": "0e414632",
   "metadata": {},
   "outputs": [
    {
     "data": {
      "text/plain": [
       "<Axes: >"
      ]
     },
     "execution_count": 35,
     "metadata": {},
     "output_type": "execute_result"
    },
    {
     "data": {
      "image/png": "[encoded data removed]",
      "text/plain": [
       "<Figure size 1000x500 with 1 Axes>"
      ]
     },
     "metadata": {},
     "output_type": "display_data"
    }
   ],
   "source": [
    "canceled[\"days_in_waiting_list\"].hist(bins=10, figsize=(10,5))"
   ]
  },
  {
   "cell_type": "markdown",
   "id": "f1abf59b",
   "metadata": {},
   "source": [
    "Por otro lado podemos decir que el número de días en el que se esta en lista de espera hasta confirmar al reserva no parece ser demasiado influyente para cancelarla."
   ]
  },
  {
   "cell_type": "markdown",
   "id": "7714746c",
   "metadata": {},
   "source": [
    "Vamos a corroborar lo anterior calculando la correlación lineal entre los atributos mencionados anteriormente (lead_time,days_in_waiting_list ) y el atributo \"is_canceled\" que es de particular importancia para el contexto de negocio."
   ]
  },
  {
   "cell_type": "code",
   "execution_count": 36,
   "id": "7448cd65",
   "metadata": {},
   "outputs": [
    {
     "data": {
      "text/html": [
       "<div>\n",
       "<style scoped>\n",
       "    .dataframe tbody tr th:only-of-type {\n",
       "        vertical-align: middle;\n",
       "    }\n",
       "\n",
       "    .dataframe tbody tr th {\n",
       "        vertical-align: top;\n",
       "    }\n",
       "\n",
       "    .dataframe thead th {\n",
       "        text-align: right;\n",
       "    }\n",
       "</style>\n",
       "<table border=\"1\" class=\"dataframe\">\n",
       "  <thead>\n",
       "    <tr style=\"text-align: right;\">\n",
       "      <th></th>\n",
       "      <th>lead_time</th>\n",
       "      <th>is_canceled</th>\n",
       "    </tr>\n",
       "  </thead>\n",
       "  <tbody>\n",
       "    <tr>\n",
       "      <th>lead_time</th>\n",
       "      <td>1.000000</td>\n",
       "      <td>0.241372</td>\n",
       "    </tr>\n",
       "    <tr>\n",
       "      <th>is_canceled</th>\n",
       "      <td>0.241372</td>\n",
       "      <td>1.000000</td>\n",
       "    </tr>\n",
       "  </tbody>\n",
       "</table>\n",
       "</div>"
      ],
      "text/plain": [
       "             lead_time  is_canceled\n",
       "lead_time     1.000000     0.241372\n",
       "is_canceled   0.241372     1.000000"
      ]
     },
     "execution_count": 36,
     "metadata": {},
     "output_type": "execute_result"
    }
   ],
   "source": [
    "data[['lead_time','is_canceled']].corr()"
   ]
  },
  {
   "cell_type": "code",
   "execution_count": 37,
   "id": "7eb21a95",
   "metadata": {},
   "outputs": [
    {
     "data": {
      "text/html": [
       "<div>\n",
       "<style scoped>\n",
       "    .dataframe tbody tr th:only-of-type {\n",
       "        vertical-align: middle;\n",
       "    }\n",
       "\n",
       "    .dataframe tbody tr th {\n",
       "        vertical-align: top;\n",
       "    }\n",
       "\n",
       "    .dataframe thead th {\n",
       "        text-align: right;\n",
       "    }\n",
       "</style>\n",
       "<table border=\"1\" class=\"dataframe\">\n",
       "  <thead>\n",
       "    <tr style=\"text-align: right;\">\n",
       "      <th></th>\n",
       "      <th>days_in_waiting_list</th>\n",
       "      <th>is_canceled</th>\n",
       "    </tr>\n",
       "  </thead>\n",
       "  <tbody>\n",
       "    <tr>\n",
       "      <th>days_in_waiting_list</th>\n",
       "      <td>1.000000</td>\n",
       "      <td>0.045313</td>\n",
       "    </tr>\n",
       "    <tr>\n",
       "      <th>is_canceled</th>\n",
       "      <td>0.045313</td>\n",
       "      <td>1.000000</td>\n",
       "    </tr>\n",
       "  </tbody>\n",
       "</table>\n",
       "</div>"
      ],
      "text/plain": [
       "                      days_in_waiting_list  is_canceled\n",
       "days_in_waiting_list              1.000000     0.045313\n",
       "is_canceled                       0.045313     1.000000"
      ]
     },
     "execution_count": 37,
     "metadata": {},
     "output_type": "execute_result"
    }
   ],
   "source": [
    "data[['days_in_waiting_list','is_canceled']].corr()"
   ]
  },
  {
   "cell_type": "markdown",
   "id": "409be21d",
   "metadata": {},
   "source": [
    "Tal y como se suponía podemos evidenciar que ninguna de las variables tiene mayor impacto sobre si un cliente cancela o no una reserva."
   ]
  },
  {
   "cell_type": "code",
   "execution_count": 38,
   "id": "7c67b653",
   "metadata": {},
   "outputs": [
    {
     "data": {
      "text/html": [
       "<div>\n",
       "<style scoped>\n",
       "    .dataframe tbody tr th:only-of-type {\n",
       "        vertical-align: middle;\n",
       "    }\n",
       "\n",
       "    .dataframe tbody tr th {\n",
       "        vertical-align: top;\n",
       "    }\n",
       "\n",
       "    .dataframe thead th {\n",
       "        text-align: right;\n",
       "    }\n",
       "</style>\n",
       "<table border=\"1\" class=\"dataframe\">\n",
       "  <thead>\n",
       "    <tr style=\"text-align: right;\">\n",
       "      <th></th>\n",
       "      <th>is_repeated_guest</th>\n",
       "      <th>is_canceled</th>\n",
       "    </tr>\n",
       "  </thead>\n",
       "  <tbody>\n",
       "    <tr>\n",
       "      <th>is_repeated_guest</th>\n",
       "      <td>1.000000</td>\n",
       "      <td>-0.125879</td>\n",
       "    </tr>\n",
       "    <tr>\n",
       "      <th>is_canceled</th>\n",
       "      <td>-0.125879</td>\n",
       "      <td>1.000000</td>\n",
       "    </tr>\n",
       "  </tbody>\n",
       "</table>\n",
       "</div>"
      ],
      "text/plain": [
       "                   is_repeated_guest  is_canceled\n",
       "is_repeated_guest           1.000000    -0.125879\n",
       "is_canceled                -0.125879     1.000000"
      ]
     },
     "execution_count": 38,
     "metadata": {},
     "output_type": "execute_result"
    }
   ],
   "source": [
    "data[['is_repeated_guest','is_canceled']].corr()"
   ]
  },
  {
   "cell_type": "code",
   "execution_count": 39,
   "id": "7f5ea92c",
   "metadata": {},
   "outputs": [
    {
     "data": {
      "text/plain": [
       "array(['PRT', 'GBR', 'USA', 'ESP', 'IRL', 'FRA', 'ROU', 'NOR', 'OMN',\n",
       "       'ARG', 'POL', 'DEU', 'BEL', 'CHE', 'CN', 'GRC', 'ITA', 'NLD',\n",
       "       'DNK', 'RUS', 'SWE', 'AUS', 'EST', 'CZE', 'FIN', 'MOZ', 'BWA',\n",
       "       'LUX', 'BRA', 'SVN', 'ALB', 'IND', 'CHN', 'MEX', 'MAR', 'UKR',\n",
       "       'SMR', 'LVA', 'PRI', 'SRB', 'CHL', 'AUT', 'BLR', 'LTU', 'TUR',\n",
       "       'ZAF', 'AGO', 'ISR', 'CYM', 'ZMB', 'CPV', 'ZWE', 'DZA', 'KOR',\n",
       "       'CRI', 'HUN', 'ARE', 'TUN', 'JAM', 'HRV', 'HKG', 'IRN', 'GEO',\n",
       "       'AND', 'GIB', 'URY', 'JEY', 'CAF', 'CYP', 'COL', 'GGY', 'KWT',\n",
       "       'NGA', 'MDV', 'VEN', 'SVK', 'FJI', 'KAZ', 'PAK', 'IDN', 'LBN',\n",
       "       'PHL', 'SEN', 'SYC', 'AZE', 'BHR', 'NZL', 'THA', 'DOM', 'MKD',\n",
       "       'MYS', 'ARM', 'JPN', 'LKA', 'CUB', 'CMR', 'BIH', 'MUS', 'COM',\n",
       "       'SUR', 'UGA', 'BGR', 'CIV', 'JOR', 'SYR', 'SGP', 'BDI', 'SAU',\n",
       "       'VNM', 'PLW', 'QAT', 'EGY', 'PER', 'MLT', 'MWI', 'ECU', 'MDG',\n",
       "       'ISL', 'UZB', 'NPL', 'BHS', 'MAC', 'TGO', 'TWN', 'DJI', 'STP',\n",
       "       'KNA', 'ETH', 'IRQ', 'HND', 'RWA', 'KHM', 'MCO', 'BGD', 'IMN',\n",
       "       'TJK', 'NIC', 'BEN', 'VGB', 'TZA', 'GAB'], dtype=object)"
      ]
     },
     "execution_count": 39,
     "metadata": {},
     "output_type": "execute_result"
    }
   ],
   "source": [
    "data['country'].unique()"
   ]
  },
  {
   "cell_type": "code",
   "execution_count": 40,
   "id": "4c13b82c",
   "metadata": {},
   "outputs": [
    {
     "name": "stdout",
     "output_type": "stream",
     "text": [
      "Index(['PRT', 'GBR', 'ESP', 'FRA', 'IRL', 'DEU', 'ITA', 'CN', 'NLD', 'BEL'], dtype='object', name='country')\n"
     ]
    }
   ],
   "source": [
    "top = data['country'].value_counts().head(10).index\n",
    "print(top)"
   ]
  },
  {
   "cell_type": "code",
   "execution_count": 41,
   "id": "168d43a9",
   "metadata": {},
   "outputs": [
    {
     "data": {
      "image/png": "[encoded data removed]",
      "text/plain": [
       "<Figure size 1300x700 with 1 Axes>"
      ]
     },
     "metadata": {},
     "output_type": "display_data"
    }
   ],
   "source": [
    "country_cancellation_rate = data[data['country'].isin(top)].groupby('country')['is_canceled'].mean() * 100\n",
    "\n",
    "plt.figure(figsize=(13, 7))\n",
    "plt.bar(country_cancellation_rate.index, country_cancellation_rate.values)\n",
    "plt.title('Cancellation Rate by Country')\n",
    "plt.xlabel('Country')\n",
    "plt.ylabel('Cancellation Rate (%)')\n",
    "plt.show()"
   ]
  },
  {
   "cell_type": "markdown",
   "id": "eb2b80f8",
   "metadata": {},
   "source": [
    "De lo anterior vemos que el país puede influir en la cancelación de una reserva, en donde ITA y PRT cuentan con la mayor tasa de cancelación. Finalmente vamos a ver que tanto puede influir la composición del grupo de huespedes en las cancelaciones, por lo que nuevamente vamos a calcular la correlación para los atributos \"children\" y \"adults\" con respecto a \"is_canceled\""
   ]
  },
  {
   "cell_type": "code",
   "execution_count": 42,
   "id": "ee3cab1c",
   "metadata": {},
   "outputs": [
    {
     "data": {
      "text/plain": [
       "array([ 0,  1,  2, 10,  3])"
      ]
     },
     "execution_count": 42,
     "metadata": {},
     "output_type": "execute_result"
    }
   ],
   "source": [
    "data['children'].unique()"
   ]
  },
  {
   "cell_type": "code",
   "execution_count": 43,
   "id": "de06440b",
   "metadata": {},
   "outputs": [
    {
     "data": {
      "text/html": [
       "<div>\n",
       "<style scoped>\n",
       "    .dataframe tbody tr th:only-of-type {\n",
       "        vertical-align: middle;\n",
       "    }\n",
       "\n",
       "    .dataframe tbody tr th {\n",
       "        vertical-align: top;\n",
       "    }\n",
       "\n",
       "    .dataframe thead th {\n",
       "        text-align: right;\n",
       "    }\n",
       "</style>\n",
       "<table border=\"1\" class=\"dataframe\">\n",
       "  <thead>\n",
       "    <tr style=\"text-align: right;\">\n",
       "      <th></th>\n",
       "      <th>children</th>\n",
       "      <th>is_canceled</th>\n",
       "    </tr>\n",
       "  </thead>\n",
       "  <tbody>\n",
       "    <tr>\n",
       "      <th>children</th>\n",
       "      <td>1.000000</td>\n",
       "      <td>0.037887</td>\n",
       "    </tr>\n",
       "    <tr>\n",
       "      <th>is_canceled</th>\n",
       "      <td>0.037887</td>\n",
       "      <td>1.000000</td>\n",
       "    </tr>\n",
       "  </tbody>\n",
       "</table>\n",
       "</div>"
      ],
      "text/plain": [
       "             children  is_canceled\n",
       "children     1.000000     0.037887\n",
       "is_canceled  0.037887     1.000000"
      ]
     },
     "execution_count": 43,
     "metadata": {},
     "output_type": "execute_result"
    }
   ],
   "source": [
    "data[['children','is_canceled']].corr()"
   ]
  },
  {
   "cell_type": "code",
   "execution_count": 44,
   "id": "a6e3ec93",
   "metadata": {},
   "outputs": [
    {
     "data": {
      "text/html": [
       "<div>\n",
       "<style scoped>\n",
       "    .dataframe tbody tr th:only-of-type {\n",
       "        vertical-align: middle;\n",
       "    }\n",
       "\n",
       "    .dataframe tbody tr th {\n",
       "        vertical-align: top;\n",
       "    }\n",
       "\n",
       "    .dataframe thead th {\n",
       "        text-align: right;\n",
       "    }\n",
       "</style>\n",
       "<table border=\"1\" class=\"dataframe\">\n",
       "  <thead>\n",
       "    <tr style=\"text-align: right;\">\n",
       "      <th></th>\n",
       "      <th>adults</th>\n",
       "      <th>is_canceled</th>\n",
       "    </tr>\n",
       "  </thead>\n",
       "  <tbody>\n",
       "    <tr>\n",
       "      <th>adults</th>\n",
       "      <td>1.000000</td>\n",
       "      <td>0.011307</td>\n",
       "    </tr>\n",
       "    <tr>\n",
       "      <th>is_canceled</th>\n",
       "      <td>0.011307</td>\n",
       "      <td>1.000000</td>\n",
       "    </tr>\n",
       "  </tbody>\n",
       "</table>\n",
       "</div>"
      ],
      "text/plain": [
       "               adults  is_canceled\n",
       "adults       1.000000     0.011307\n",
       "is_canceled  0.011307     1.000000"
      ]
     },
     "execution_count": 44,
     "metadata": {},
     "output_type": "execute_result"
    }
   ],
   "source": [
    "data[['adults','is_canceled']].corr()"
   ]
  },
  {
   "cell_type": "markdown",
   "id": "52e59d35",
   "metadata": {},
   "source": [
    "Como se puede evidenciar, ninguna de los atributos parece tener impacto significativo por separado sobre el atributo \"is_canceled\"."
   ]
  },
  {
   "cell_type": "markdown",
   "id": "6d6fd119",
   "metadata": {},
   "source": [
    "#### Finalmente vamos a analizar el impacto del tipo de la habitacion en las cancelaciones "
   ]
  },
  {
   "cell_type": "code",
   "execution_count": 45,
   "id": "c6a74416",
   "metadata": {},
   "outputs": [
    {
     "data": {
      "text/plain": [
       "array(['C', 'A', 'D', 'E', 'G', 'F', 'H', 'L', 'B'], dtype=object)"
      ]
     },
     "execution_count": 45,
     "metadata": {},
     "output_type": "execute_result"
    }
   ],
   "source": [
    "data['reserved_room_type'].unique()"
   ]
  },
  {
   "cell_type": "code",
   "execution_count": 46,
   "id": "03d813da",
   "metadata": {},
   "outputs": [
    {
     "data": {
      "image/png": "[encoded data removed]",
      "text/plain": [
       "<Figure size 900x500 with 1 Axes>"
      ]
     },
     "metadata": {},
     "output_type": "display_data"
    }
   ],
   "source": [
    "data['reserved_room_type'].hist(bins=10,figsize=(9,5) )\n",
    "plt.show()"
   ]
  },
  {
   "cell_type": "code",
   "execution_count": 47,
   "id": "9811ad23",
   "metadata": {},
   "outputs": [
    {
     "data": {
      "image/png": "[encoded data removed]",
      "text/plain": [
       "<Figure size 1300x700 with 1 Axes>"
      ]
     },
     "metadata": {},
     "output_type": "display_data"
    }
   ],
   "source": [
    "room_cancellation_rate = data.groupby('reserved_room_type')['is_canceled'].mean() * 100\n",
    "\n",
    "plt.figure(figsize=(13, 7))\n",
    "plt.bar(room_cancellation_rate.index, room_cancellation_rate.values)\n",
    "plt.title('Cancellation Rate by Room type')\n",
    "plt.xlabel('Room type')\n",
    "plt.ylabel('Cancellation Rate (%)')\n",
    "plt.show()"
   ]
  },
  {
   "cell_type": "markdown",
   "id": "ee9f1406",
   "metadata": {},
   "source": [
    "De lo anterior notamos que las habitaciones tipo A son las que se reservan más con diferencia, y junto con las tipo B, G y H son las que reciben mayor porcentaje de cancelaciones."
   ]
  },
  {
   "cell_type": "markdown",
   "id": "7118ca71",
   "metadata": {},
   "source": [
    "### Perfilado y exportado de los datos procesados"
   ]
  },
  {
   "cell_type": "code",
   "execution_count": 48,
   "id": "ea6b5e9d",
   "metadata": {},
   "outputs": [],
   "source": [
    "profile = ProfileReport(data)"
   ]
  },
  {
   "cell_type": "code",
   "execution_count": 53,
   "id": "4de59926",
   "metadata": {},
   "outputs": [
    {
     "name": "stderr",
     "output_type": "stream",
     "text": [
      "Export report to file: 100%|██████████| 1/1 [00:00<00:00,  4.85it/s]\n"
     ]
    }
   ],
   "source": [
    "profile.to_file('report.html')"
   ]
  },
  {
   "cell_type": "code",
   "execution_count": 50,
   "id": "4ddf78b8",
   "metadata": {},
   "outputs": [],
   "source": [
    "data.to_csv('..\\data\\hotel_bookings_clean.csv', index=False)\n"
   ]
  }
 ],
 "metadata": {
  "kernelspec": {
   "display_name": "AppliedDataScience",
   "language": "python",
   "name": "python3"
  },
  "language_info": {
   "codemirror_mode": {
    "name": "ipython",
    "version": 3
   },
   "file_extension": ".py",
   "mimetype": "text/x-python",
   "name": "python",
   "nbconvert_exporter": "python",
   "pygments_lexer": "ipython3",
   "version": "3.11.13"
  }
 },
 "nbformat": 4,
 "nbformat_minor": 5
}
